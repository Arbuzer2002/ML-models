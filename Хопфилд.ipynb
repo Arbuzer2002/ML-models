{
 "cells": [
  {
   "cell_type": "code",
   "execution_count": 1,
   "id": "c5a8a714",
   "metadata": {},
   "outputs": [
    {
     "data": {
      "image/png": "[encoded data removed]",
      "text/plain": [
       "<Figure size 1000x400 with 3 Axes>"
      ]
     },
     "metadata": {},
     "output_type": "display_data"
    }
   ],
   "source": [
    "import numpy as np\n",
    "import matplotlib.pyplot as plt\n",
    "\n",
    "class HopfieldNetwork:\n",
    "    def __init__(self, num_neurons):\n",
    "        self.num_neurons = num_neurons\n",
    "        self.weights = np.zeros((num_neurons, num_neurons))\n",
    "    \n",
    "    def train(self, patterns):\n",
    "        \"\"\"Обучение сети по набору паттернов с использованием правила Хебба\"\"\"\n",
    "        for pattern in patterns:\n",
    "            pattern = np.array(pattern)\n",
    "            self.weights += np.outer(pattern, pattern)\n",
    "        np.fill_diagonal(self.weights, 0)\n",
    "        self.weights /= len(patterns)\n",
    "    \n",
    "    def recall(self, pattern, steps=10):\n",
    "        \"\"\"Восстановление образа\"\"\"\n",
    "        pattern = np.array(pattern)\n",
    "        for _ in range(steps):\n",
    "            for i in range(self.num_neurons):\n",
    "                pattern[i] = 1 if np.dot(self.weights[i], pattern) >= 0 else -1\n",
    "        return pattern\n",
    "        \n",
    "    def energy(self, pattern):\n",
    "        \"\"\"Вычисление энергии состояния\"\"\"\n",
    "        pattern = np.array(pattern)\n",
    "        return -0.5 * np.dot(pattern, np.dot(self.weights, pattern))\n",
    "\n",
    "def find_matching_pattern(patterns, recalled_pattern):\n",
    "    \"\"\"Поиск исходного паттерна, совпадающего с восстановленным\"\"\"\n",
    "    for pattern in patterns:\n",
    "        if np.array_equal(pattern, recalled_pattern):\n",
    "            return pattern\n",
    "    return None\n",
    "\n",
    "def display_images(original, test, recalled, title_original=\"Тестовый совпавший\", title_corrupted=\"До восстановления\", title_recalled=\"После восстановления\"):\n",
    "    \"\"\"Отображение исходного, тестового и восстановленного изображений\"\"\"\n",
    "    side = int(np.sqrt(len(original)))\n",
    "    fig, axes = plt.subplots(1, 3, figsize=(10, 4))\n",
    "\n",
    "    axes[0].imshow(original.reshape((side, side)), cmap=\"gray\")\n",
    "    axes[0].set_title(title_original)\n",
    "    axes[0].axis(\"off\")\n",
    "\n",
    "    axes[1].imshow(test.reshape((side, side)), cmap=\"gray\")\n",
    "    axes[1].set_title(title_corrupted)\n",
    "    axes[1].axis(\"off\")\n",
    "\n",
    "    axes[2].imshow(recalled.reshape((side, side)), cmap=\"gray\")\n",
    "    axes[2].set_title(title_recalled)\n",
    "    axes[2].axis(\"off\")\n",
    "\n",
    "    plt.show()\n",
    "\n",
    "# Пример использования сети Хопфилда на изображениях\n",
    "if __name__ == \"__main__\":\n",
    "    # Определение изображений (3x3)\n",
    "    pattern1 = np.array([1, -1, 1, -1, -1, -1, 1, 1, 1])\n",
    "    pattern2 = np.array([1, -1, 1, -1, 1, -1, 1, -1, 1])\n",
    "    pattern3 = np.array([-1, 1, -1, 1, -1, 1, -1, 1, -1])\n",
    "    patterns = [pattern1,pattern2, pattern3]\n",
    "    \n",
    "    # Создание сети и обучение\n",
    "    hopfield = HopfieldNetwork(num_neurons=9)\n",
    "    hopfield.train(patterns)\n",
    "    \n",
    "    # Восстановление образа\n",
    "    test_pattern = np.array([-1, 1, -1, -1, 1, 1, -1, 1, 1])\n",
    "    recalled_pattern = hopfield.recall(test_pattern)\n",
    "    \n",
    "    # Поиск совпадающего исходного паттерна\n",
    "    matching_pattern = find_matching_pattern(patterns, recalled_pattern)\n",
    "    \n",
    "    if matching_pattern is not None:\n",
    "        display_images(matching_pattern, test_pattern, recalled_pattern)\n",
    "    else:\n",
    "        print(\"Восстановленный паттерн не совпал ни с одним из исходных.\")"
   ]
  }
 ],
 "metadata": {
  "kernelspec": {
   "display_name": "Python 3 (ipykernel)",
   "language": "python",
   "name": "python3"
  },
  "language_info": {
   "codemirror_mode": {
    "name": "ipython",
    "version": 3
   },
   "file_extension": ".py",
   "mimetype": "text/x-python",
   "name": "python",
   "nbconvert_exporter": "python",
   "pygments_lexer": "ipython3",
   "version": "3.12.1"
  }
 },
 "nbformat": 4,
 "nbformat_minor": 5
}
